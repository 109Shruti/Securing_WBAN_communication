{
  "nbformat": 4,
  "nbformat_minor": 0,
  "metadata": {
    "colab": {
      "provenance": [],
      "authorship_tag": "ABX9TyNhYEQozJ5b1CLR5v4awo8+",
      "include_colab_link": true
    },
    "kernelspec": {
      "name": "python3",
      "display_name": "Python 3"
    },
    "language_info": {
      "name": "python"
    }
  },
  "cells": [
    {
      "cell_type": "markdown",
      "metadata": {
        "id": "view-in-github",
        "colab_type": "text"
      },
      "source": [
        "<a href=\"https://colab.research.google.com/github/109Shruti/Securing_WBAN_communication/blob/main/encryption_kerpair.ipynb\" target=\"_parent\"><img src=\"https://colab.research.google.com/assets/colab-badge.svg\" alt=\"Open In Colab\"/></a>"
      ]
    },
    {
      "cell_type": "code",
      "execution_count": 1,
      "metadata": {
        "colab": {
          "base_uri": "https://localhost:8080/"
        },
        "id": "TU64vX_npfg9",
        "outputId": "97717534-bdb7-4246-e1ef-4b14ceb37e7a"
      },
      "outputs": [
        {
          "output_type": "stream",
          "name": "stdout",
          "text": [
            "Public Key (n): 23144324508402160671340469614392520557451060081785871986725732557027463877793635926617637752594427370310521246300006577062984673628943124443526211758281886519698772430626686423044976493925028365453610462837595490355460436006647779295052049776119143608945706343978785268428885395259724796999881081685217605641\n",
            "Private Key (lambda, mu): (2893040563550270083917558701799065069681382510223233998340716569628432984724204490827204719074303421288815155787500822132873084203617890555440776469785234538439467570368147696276037578643791547991750093618494134790662953641549817472004263956929450635174040653790505535052221783523840127615530634067605640064, 2893040563550270083917558701799065069681382510223233998340716569628432984724204490827204719074303421288815155787500822132873084203617890555440776469785234538439467570368147696276037578643791547991750093618494134790662953641549817472004263956929450635174040653790505535052221783523840127615530634067605640064)\n",
            "Execution time: 0.32634758949279785 seconds\n"
          ]
        }
      ],
      "source": [
        "import random\n",
        "import math\n",
        "import time\n",
        "start=time.time()\n",
        "\n",
        "def generate_paillier_keypair(key_length):\n",
        "    # Choose two large prime numbers\n",
        "    p = generate_large_prime(key_length // 2)\n",
        "    q = generate_large_prime(key_length // 2)\n",
        "\n",
        "    # Compute modulus\n",
        "    n = p * q\n",
        "\n",
        "    # Compute lambda (LCM)\n",
        "    lam = math.lcm(p - 1, q - 1)\n",
        "\n",
        "    # Compute mu (modular multiplicative inverse)\n",
        "    g = n + 1\n",
        "    mu = pow(g, lam, n * n)\n",
        "    mu = (mu - 1) // n\n",
        "\n",
        "    # Public key: (n)\n",
        "    public_key = n\n",
        "\n",
        "    # Private key: (lambda, mu)\n",
        "    private_key = (lam, mu)\n",
        "\n",
        "    return public_key, private_key\n",
        "\n",
        "def generate_large_prime(bit_length):\n",
        "    while True:\n",
        "        prime_candidate = random.getrandbits(bit_length)\n",
        "        if is_prime(prime_candidate):\n",
        "            return prime_candidate\n",
        "\n",
        "def is_prime(n, k=5):\n",
        "    if n <= 1:\n",
        "        return False\n",
        "    elif n <= 3:\n",
        "        return True\n",
        "    elif n % 2 == 0 or n % 3 == 0:\n",
        "        return False\n",
        "    else:\n",
        "        for _ in range(k):\n",
        "            a = random.randint(2, n - 2)\n",
        "            if pow(a, n - 1, n) != 1:\n",
        "                return False\n",
        "        return True\n",
        "\n",
        "# Usage\n",
        "key_length = 1024\n",
        "public_key, private_key = generate_paillier_keypair(key_length)\n",
        "print(\"Public Key (n):\", public_key)\n",
        "print(\"Private Key (lambda, mu):\", private_key)\n",
        "end=time.time()\n",
        "execution_time = end - start\n",
        "print(\"Execution time:\", execution_time, \"seconds\")\n"
      ]
    }
  ]
}